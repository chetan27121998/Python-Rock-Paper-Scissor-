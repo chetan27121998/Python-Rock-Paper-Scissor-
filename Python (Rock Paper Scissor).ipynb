{
 "cells": [
  {
   "cell_type": "code",
   "execution_count": 5,
   "id": "a828adf5",
   "metadata": {},
   "outputs": [
    {
     "name": "stdout",
     "output_type": "stream",
     "text": [
      "Comp Turn: Snake(s) Water(w) or Gun(g)?\n",
      "Your Turn: Snake(s) Water(w) or Gun(g)?s\n",
      "Computer chose g\n",
      "You chose s\n",
      "You Lose!\n"
     ]
    }
   ],
   "source": [
    "import random\n",
    "\n",
    "# Snake Water Gun or Rock Paper Scissors\n",
    "def gameWin(comp, you):\n",
    "    # If two values are equal, declare a tie!\n",
    "    if comp == you:\n",
    "        return None\n",
    "\n",
    "    # Check for all possibilities when computer chose s\n",
    "    elif comp == 's':\n",
    "        if you=='w':\n",
    "            return False\n",
    "        elif you=='g':\n",
    "            return True\n",
    "    \n",
    "    # Check for all possibilities when computer chose w\n",
    "    elif comp == 'w':\n",
    "        if you=='g':\n",
    "            return False\n",
    "        elif you=='s':\n",
    "            return True\n",
    "    \n",
    "    # Check for all possibilities when computer chose g\n",
    "    elif comp == 'g':\n",
    "        if you=='s':\n",
    "            return False\n",
    "        elif you=='w':\n",
    "            return True\n",
    "\n",
    "print(\"Comp Turn: Snake(s) Water(w) or Gun(g)?\")\n",
    "randNo = random.randint(1, 3) \n",
    "if randNo == 1:\n",
    "    comp = 's'\n",
    "elif randNo == 2:\n",
    "    comp = 'w'\n",
    "elif randNo == 3:\n",
    "    comp = 'g'\n",
    "\n",
    "you = input(\"Your Turn: Snake(s) Water(w) or Gun(g)?\")\n",
    "a = gameWin(comp, you)\n",
    "\n",
    "print(f\"Computer chose {comp}\")\n",
    "print(f\"You chose {you}\")\n",
    "\n",
    "if a == None:\n",
    "    print(\"The game is a tie!\")\n",
    "elif a:\n",
    "    print(\"You Win!\")\n",
    "else:\n",
    "    print(\"You Lose!\")"
   ]
  },
  {
   "cell_type": "code",
   "execution_count": 6,
   "id": "e07e25e2",
   "metadata": {},
   "outputs": [],
   "source": [
    "import random\n",
    "\n",
    "def gamewin(comp,you):\n",
    "    # if two values are equal, declare a tie!\n",
    "    if comp == you:\n",
    "        return None\n",
    "    \n",
    "    # Check all the possibilities when computer chose Rock(R)\n",
    "    elif comp == \"R\":\n",
    "        if you == \"P\":\n",
    "            return True\n",
    "        elif you == \"S\":\n",
    "            return False\n",
    "    # Check all the possibilities when computer chose Paper(P)\n",
    "    elif comp == \"P\":\n",
    "        if you == \"S\":\n",
    "            return True\n",
    "        elif you == \"R\":\n",
    "            return False\n",
    "        \n",
    "    # Check all the possibilities when computer chose Scissor(S)\n",
    "    elif comp == \"S\":\n",
    "        if you == \"R\":\n",
    "            return True\n",
    "        elif you == \"P\":\n",
    "            return False"
   ]
  },
  {
   "cell_type": "code",
   "execution_count": 10,
   "id": "717d156b",
   "metadata": {},
   "outputs": [
    {
     "name": "stdout",
     "output_type": "stream",
     "text": [
      "computer Turn : Rock(R) Paper(P) OR Scissor(S)\n",
      "Your turn : Rock(R) Paper(P) OR Scissor(S)R\n",
      "comp chose S\n",
      "you choseR\n",
      "You win !\n"
     ]
    }
   ],
   "source": [
    "print(\"computer Turn : Rock(R) Paper(P) OR Scissor(S)\")\n",
    "randNo = random.randint(1,3)\n",
    "\n",
    "if randNo == 1:\n",
    "    comp = \"R\"\n",
    "elif randNo == 2:\n",
    "    comp = \"P\"\n",
    "elif randNo == 3:\n",
    "    comp = \"S\"\n",
    "    \n",
    "you = input(\"Your turn : Rock(R) Paper(P) OR Scissor(S)\")\n",
    "a = gamewin(comp,you)\n",
    "\n",
    "print(f\"comp chose {comp}\")\n",
    "print(f\"you chose{you}\")\n",
    "\n",
    "if a==None:\n",
    "    print(\"The game is tie !\")\n",
    "elif a:\n",
    "    print(\"You win !\")\n",
    "else:\n",
    "    print(\"you lose :(\")"
   ]
  },
  {
   "cell_type": "code",
   "execution_count": null,
   "id": "348e8e37",
   "metadata": {},
   "outputs": [],
   "source": []
  }
 ],
 "metadata": {
  "kernelspec": {
   "display_name": "Python 3",
   "language": "python",
   "name": "python3"
  },
  "language_info": {
   "codemirror_mode": {
    "name": "ipython",
    "version": 3
   },
   "file_extension": ".py",
   "mimetype": "text/x-python",
   "name": "python",
   "nbconvert_exporter": "python",
   "pygments_lexer": "ipython3",
   "version": "3.8.8"
  }
 },
 "nbformat": 4,
 "nbformat_minor": 5
}
